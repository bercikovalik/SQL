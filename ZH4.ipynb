{
 "cells": [
  {
   "attachments": {},
   "cell_type": "markdown",
   "metadata": {},
   "source": [
    "SQL 1"
   ]
  },
  {
   "cell_type": "code",
   "execution_count": null,
   "metadata": {
    "vscode": {
     "languageId": "sql"
    }
   },
   "outputs": [],
   "source": [
    "SELECT \n",
    "    SZOBA.SZOBA_SZAMA AS Room_Number,\n",
    "    COUNT(FOGLALAS.FOGLALAS_PK) AS Booking_Count\n",
    "FROM \n",
    "    SZOBA\n",
    "LEFT JOIN \n",
    "    FOGLALAS ON SZOBA.SZALLAS_FK = FOGLALAS.SZOBA_FK\n",
    "GROUP BY \n",
    "    SZOBA.SZOBA_SZAMA;\n"
   ]
  },
  {
   "attachments": {},
   "cell_type": "markdown",
   "metadata": {},
   "source": [
    "SQL 2"
   ]
  },
  {
   "cell_type": "code",
   "execution_count": null,
   "metadata": {
    "vscode": {
     "languageId": "sql"
    }
   },
   "outputs": [],
   "source": [
    "WITH RankedSzallas AS (\n",
    "    SELECT\n",
    "        SZALLAS_ID,\n",
    "        SZALLAS_NEV,\n",
    "        HELY,\n",
    "        CSILLAGOK_SZAMA,\n",
    "        ROW_NUMBER() OVER (PARTITION BY HELY ORDER BY CSILLAGOK_SZAMA DESC) AS r\n",
    "    FROM\n",
    "        Szallashely\n",
    ")\n",
    "SELECT\n",
    "    SZALLAS_ID,\n",
    "    SZALLAS_NEV\n",
    "FROM\n",
    "    RankedSzallas\n",
    "WHERE\n",
    "    r = 1;"
   ]
  },
  {
   "attachments": {},
   "cell_type": "markdown",
   "metadata": {},
   "source": [
    "SQL 3"
   ]
  },
  {
   "cell_type": "code",
   "execution_count": null,
   "metadata": {
    "vscode": {
     "languageId": "sql"
    }
   },
   "outputs": [],
   "source": [
    "SELECT \n",
    "    DENSE_RANK() OVER (ORDER BY COUNT(f.FOGLALAS_PK) DESC) AS Rank,\n",
    "    v.USERNEV AS Vendeg_ID,\n",
    "    v.NEV AS Vendeg_nev,\n",
    "    COUNT(f.FOGLALAS_PK) AS Foglalasok\n",
    "FROM \n",
    "    VENDEG v\n",
    "LEFT JOIN \n",
    "    FOGLALAS f ON v.USERNEV = f.UGYFEL_FK\n",
    "GROUP BY \n",
    "    v.USERNEV, v.NEV\n",
    "ORDER BY \n",
    "    Foglalasok DESC;\n"
   ]
  },
  {
   "attachments": {},
   "cell_type": "markdown",
   "metadata": {},
   "source": [
    "SQL 4"
   ]
  },
  {
   "cell_type": "code",
   "execution_count": null,
   "metadata": {
    "vscode": {
     "languageId": "sql"
    }
   },
   "outputs": [],
   "source": [
    "SELECT \n",
    "    SZOBA_FK,\n",
    "    METTOL,\n",
    "    COUNT(*) \n",
    "FROM \n",
    "    FOGLALAS\n",
    "GROUP BY \n",
    "    SZOBA_FK, METTOL\n",
    "HAVING \n",
    "    COUNT(*) >= 2\n",
    "ORDER BY \n",
    "    SZOBA_FK, METTOL;"
   ]
  },
  {
   "attachments": {},
   "cell_type": "markdown",
   "metadata": {},
   "source": [
    "SQL 5"
   ]
  },
  {
   "cell_type": "code",
   "execution_count": null,
   "metadata": {
    "vscode": {
     "languageId": "sql"
    }
   },
   "outputs": [],
   "source": [
    "SELECT\n",
    "    COUNT(DISTINCT FEROHELY) AS Különböző,\n",
    "    MIN(FEROHELY) AS Minimum,\n",
    "    MAX(FEROHELY) AS Maximum,\n",
    "    AVG(FEROHELY) AS Average,\n",
    "    100.0 * COUNT(FEROHELY) / COUNT(*) AS Not_Null,\n",
    "    100.0 * (COUNT(*) - COUNT(FEROHELY)) / COUNT(*) AS null_\n",
    "FROM \n",
    "    SZOBA;"
   ]
  },
  {
   "attachments": {},
   "cell_type": "markdown",
   "metadata": {},
   "source": [
    "REDIS"
   ]
  },
  {
   "cell_type": "code",
   "execution_count": null,
   "metadata": {
    "vscode": {
     "languageId": "sql"
    }
   },
   "outputs": [],
   "source": [
    "HSET IRO:1 ID 1 nev \"Jancsi\" nemzetiseg \"Magyar\"\n",
    "\n",
    "HSET IRO:2 ID 2 nev \"Kovalik-Deák Bercel\" nemzetiseg \"Német\"\n",
    "\n",
    "\n",
    "\n",
    "HSET KONYV:1 ID 1 cim \"pelda1\" mufaj \"Fantasy\" IRO_ID 1\n",
    "\n",
    "HSET KONYV:2 ID 2 cim \"pelda2\" mufaj \"Krimi\" IRO_ID 2\n"
   ]
  },
  {
   "attachments": {},
   "cell_type": "markdown",
   "metadata": {},
   "source": [
    "CASSANDRA"
   ]
  },
  {
   "cell_type": "code",
   "execution_count": null,
   "metadata": {
    "vscode": {
     "languageId": "sql"
    }
   },
   "outputs": [],
   "source": [
    "USE movies;\n",
    "CREATE TABLE STUDENT (\n",
    "          ...     ID UUID PRIMARY KEY,\n",
    "          ...     Nev TEXT,\n",
    "          ...     Teljesitett_felevek LIST<INT>,\n",
    "          ...     Eredmenyek MAP<INT, DECIMAL>,\n",
    "          ...     Nyelvtudas SET<TEXT>\n",
    "          ... );\n",
    "INSERT INTO STUDENT (ID, Nev, Teljesitett_felevek, Eredmenyek, Nyelvtudas)\n",
    "          ... VALUES (uuid(), 'Balazs', [1, 2, 3], {1: 3.00, 2: 4.55, 3: 4.10}, {'English', 'Hungarian'});\n",
    "\n",
    "INSERT INTO STUDENT (ID, Nev, Teljesitett_felevek, Eredmenyek, Nyelvtudas)\n",
    "          ... VALUES (uuid(), 'Greta', [1, 2, 3], {1: 4.00, 2: 3.80, 3: 4.75}, {'English', 'German', 'Spanish'});\n",
    "\n",
    "SELECT * FROM STUDENT;\n"
   ]
  },
  {
   "attachments": {},
   "cell_type": "markdown",
   "metadata": {},
   "source": [
    "NEO4J"
   ]
  },
  {
   "cell_type": "code",
   "execution_count": null,
   "metadata": {
    "vscode": {
     "languageId": "sql"
    }
   },
   "outputs": [],
   "source": [
    "MATCH (tom:Person {name: \"Tom Hanks\"})-[:ACTED_IN]->(m:Movie)<-[:ACTED_IN]-(coActor:Person)\n",
    "WHERE NOT coActor.name = \"Tom Hanks\"\n",
    "RETURN DISTINCT coActor.name AS CoActorNames\n"
   ]
  }
 ],
 "metadata": {
  "language_info": {
   "name": "python"
  },
  "orig_nbformat": 4
 },
 "nbformat": 4,
 "nbformat_minor": 2
}
