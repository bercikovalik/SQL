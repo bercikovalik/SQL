{
 "cells": [
  {
   "cell_type": "code",
   "execution_count": null,
   "metadata": {},
   "outputs": [],
   "source": [
    "1. Feladat"
   ]
  },
  {
   "cell_type": "code",
   "execution_count": null,
   "metadata": {
    "vscode": {
     "languageId": "sql"
    }
   },
   "outputs": [],
   "source": [
    "//Filter\n",
    "{\n",
    "\n",
    "  \"genres.0\": \"Short\",\n",
    "\n",
    "  \"year\": { \"$gte\": 1945, \"$lte\": 1970 }\n",
    "\n",
    "}\n",
    "//Project\n",
    "{\n",
    "\n",
    "  \"title\": 1,\n",
    "\n",
    "  \"year\": 1,\n",
    "\n",
    "  \"_id\": 0\n",
    "\n",
    "}\n",
    "//Sort\n",
    "{\n",
    "\n",
    "  \"year\": 1,\n",
    "\n",
    "  \"title\": 1\n",
    "\n",
    "}"
   ]
  },
  {
   "attachments": {},
   "cell_type": "markdown",
   "metadata": {},
   "source": [
    "2. Feladat"
   ]
  },
  {
   "cell_type": "code",
   "execution_count": null,
   "metadata": {
    "vscode": {
     "languageId": "sql"
    }
   },
   "outputs": [],
   "source": [
    "use sample_mflix\n",
    "\n",
    "\n",
    "\n",
    "db.users.find(\n",
    "\n",
    "    { \"email\": /.*\\.com$/ },\n",
    "\n",
    "    { \"name\": 1, \"email\": 1, \"_id\": 0 }\n",
    "\n",
    ")"
   ]
  },
  {
   "attachments": {},
   "cell_type": "markdown",
   "metadata": {},
   "source": [
    "3. Feladat"
   ]
  },
  {
   "cell_type": "code",
   "execution_count": null,
   "metadata": {
    "vscode": {
     "languageId": "sql"
    }
   },
   "outputs": [],
   "source": [
    "db.movies.aggregate([\n",
    "\n",
    "    { $match: { \"year\": { $gt: 1950 } } },\n",
    "\n",
    "    { $group: {\n",
    "\n",
    "        _id: \"$rated\",\n",
    "\n",
    "        avgRuntime: { $avg: \"$runtime\" }\n",
    "\n",
    "    }},\n",
    "\n",
    "    { $sort: { \"_id\": 1 } } \n",
    "\n",
    "])"
   ]
  },
  {
   "attachments": {},
   "cell_type": "markdown",
   "metadata": {},
   "source": [
    "4. Feladat"
   ]
  },
  {
   "cell_type": "code",
   "execution_count": null,
   "metadata": {
    "vscode": {
     "languageId": "sql"
    }
   },
   "outputs": [],
   "source": [
    "MATCH (m:Movie)<-[:ACTED_IN]-(p:Person)\n",
    "\n",
    "WITH m.title AS title, count(p) AS cast_count\n",
    "\n",
    "RETURN title, cast_count\n",
    "\n",
    "ORDER BY cast_count DESC\n",
    "\n",
    "LIMIT 1"
   ]
  },
  {
   "attachments": {},
   "cell_type": "markdown",
   "metadata": {},
   "source": [
    "5. Feladat"
   ]
  },
  {
   "cell_type": "code",
   "execution_count": null,
   "metadata": {
    "vscode": {
     "languageId": "sql"
    }
   },
   "outputs": [],
   "source": [
    "MATCH (p:Person)-[:ACTED_IN]->(m:Movie)\n",
    "\n",
    "WHERE p.born = 1980\n",
    "\n",
    "WITH p, count(m) AS NumMoviesActedIn\n",
    "\n",
    "RETURN p.name AS Actor, p.born AS BirthYear, NumMoviesActedIn\n",
    "\n",
    "ORDER BY p.name, p.born"
   ]
  }
 ],
 "metadata": {
  "language_info": {
   "name": "python"
  },
  "orig_nbformat": 4
 },
 "nbformat": 4,
 "nbformat_minor": 2
}
