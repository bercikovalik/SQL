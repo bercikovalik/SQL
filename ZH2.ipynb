{
    "metadata": {
        "kernelspec": {
            "name": "SQL",
            "display_name": "SQL",
            "language": "sql"
        },
        "language_info": {
            "name": "sql",
            "version": ""
        }
    },
    "nbformat_minor": 2,
    "nbformat": 4,
    "cells": [
        {
            "cell_type": "code",
            "source": [
                "SELECT \r\n",
                "  SZOBA_FK,\r\n",
                "  COUNT(*) AS FoglalasokSzama\r\n",
                "FROM Foglalas\r\n",
                "WHERE FELNOTT_SZAM > GYERMEK_SZAM\r\n",
                "GROUP BY SZOBA_FK\r\n",
                "WITH ROLLUP\r\n",
                "HAVING SZOBA_FK IS NOT NULL OR (SZOBA_FK IS NULL AND COUNT(*) > 0)\r\n",
                "\r\n",
                ""
            ],
            "metadata": {
                "azdata_cell_guid": "03607182-e7ff-41ed-8d57-ad4043f97e18",
                "language": "sql",
                "tags": []
            },
            "outputs": [
                {
                    "output_type": "display_data",
                    "data": {
                        "text/html": "(190 rows affected)"
                    },
                    "metadata": {}
                },
                {
                    "output_type": "display_data",
                    "data": {
                        "text/html": "Total execution time: 00:00:00.010"
                    },
                    "metadata": {}
                },
                {
                    "output_type": "execute_result",
                    "metadata": {},
                    "execution_count": 7,
                    "data": {
                        "application/vnd.dataresource+json": {
                            "schema": {
                                "fields": [
                                    {
                                        "name": "SZOBA_FK"
                                    },
                                    {
                                        "name": "FoglalasokSzama"
                                    }
                                ]
                            },
                            "data": [
                                {
                                    "SZOBA_FK": "1",
                                    "FoglalasokSzama": "7"
                                },
                                {
                                    "SZOBA_FK": "2",
                                    "FoglalasokSzama": "2"
                                },
                                {
                                    "SZOBA_FK": "3",
                                    "FoglalasokSzama": "3"
                                },
                                {
                                    "SZOBA_FK": "4",
                                    "FoglalasokSzama": "5"
                                },
                                {
                                    "SZOBA_FK": "5",
                                    "FoglalasokSzama": "2"
                                },
                                {
                                    "SZOBA_FK": "6",
                                    "FoglalasokSzama": "5"
                                },
                                {
                                    "SZOBA_FK": "7",
                                    "FoglalasokSzama": "6"
                                },
                                {
                                    "SZOBA_FK": "8",
                                    "FoglalasokSzama": "5"
                                },
                                {
                                    "SZOBA_FK": "9",
                                    "FoglalasokSzama": "4"
                                },
                                {
                                    "SZOBA_FK": "10",
                                    "FoglalasokSzama": "4"
                                },
                                {
                                    "SZOBA_FK": "11",
                                    "FoglalasokSzama": "4"
                                },
                                {
                                    "SZOBA_FK": "12",
                                    "FoglalasokSzama": "7"
                                },
                                {
                                    "SZOBA_FK": "13",
                                    "FoglalasokSzama": "4"
                                },
                                {
                                    "SZOBA_FK": "14",
                                    "FoglalasokSzama": "3"
                                },
                                {
                                    "SZOBA_FK": "15",
                                    "FoglalasokSzama": "4"
                                },
                                {
                                    "SZOBA_FK": "16",
                                    "FoglalasokSzama": "1"
                                },
                                {
                                    "SZOBA_FK": "17",
                                    "FoglalasokSzama": "2"
                                },
                                {
                                    "SZOBA_FK": "18",
                                    "FoglalasokSzama": "3"
                                },
                                {
                                    "SZOBA_FK": "19",
                                    "FoglalasokSzama": "4"
                                },
                                {
                                    "SZOBA_FK": "20",
                                    "FoglalasokSzama": "5"
                                },
                                {
                                    "SZOBA_FK": "21",
                                    "FoglalasokSzama": "1"
                                },
                                {
                                    "SZOBA_FK": "22",
                                    "FoglalasokSzama": "2"
                                },
                                {
                                    "SZOBA_FK": "23",
                                    "FoglalasokSzama": "3"
                                },
                                {
                                    "SZOBA_FK": "24",
                                    "FoglalasokSzama": "3"
                                },
                                {
                                    "SZOBA_FK": "25",
                                    "FoglalasokSzama": "1"
                                },
                                {
                                    "SZOBA_FK": "27",
                                    "FoglalasokSzama": "5"
                                },
                                {
                                    "SZOBA_FK": "28",
                                    "FoglalasokSzama": "5"
                                },
                                {
                                    "SZOBA_FK": "29",
                                    "FoglalasokSzama": "3"
                                },
                                {
                                    "SZOBA_FK": "30",
                                    "FoglalasokSzama": "2"
                                },
                                {
                                    "SZOBA_FK": "31",
                                    "FoglalasokSzama": "1"
                                },
                                {
                                    "SZOBA_FK": "32",
                                    "FoglalasokSzama": "1"
                                },
                                {
                                    "SZOBA_FK": "33",
                                    "FoglalasokSzama": "3"
                                },
                                {
                                    "SZOBA_FK": "34",
                                    "FoglalasokSzama": "3"
                                },
                                {
                                    "SZOBA_FK": "35",
                                    "FoglalasokSzama": "6"
                                },
                                {
                                    "SZOBA_FK": "36",
                                    "FoglalasokSzama": "4"
                                },
                                {
                                    "SZOBA_FK": "37",
                                    "FoglalasokSzama": "2"
                                },
                                {
                                    "SZOBA_FK": "38",
                                    "FoglalasokSzama": "5"
                                },
                                {
                                    "SZOBA_FK": "39",
                                    "FoglalasokSzama": "4"
                                },
                                {
                                    "SZOBA_FK": "40",
                                    "FoglalasokSzama": "3"
                                },
                                {
                                    "SZOBA_FK": "41",
                                    "FoglalasokSzama": "1"
                                },
                                {
                                    "SZOBA_FK": "42",
                                    "FoglalasokSzama": "5"
                                },
                                {
                                    "SZOBA_FK": "43",
                                    "FoglalasokSzama": "4"
                                },
                                {
                                    "SZOBA_FK": "44",
                                    "FoglalasokSzama": "6"
                                },
                                {
                                    "SZOBA_FK": "45",
                                    "FoglalasokSzama": "4"
                                },
                                {
                                    "SZOBA_FK": "46",
                                    "FoglalasokSzama": "3"
                                },
                                {
                                    "SZOBA_FK": "47",
                                    "FoglalasokSzama": "2"
                                },
                                {
                                    "SZOBA_FK": "48",
                                    "FoglalasokSzama": "6"
                                },
                                {
                                    "SZOBA_FK": "49",
                                    "FoglalasokSzama": "5"
                                },
                                {
                                    "SZOBA_FK": "50",
                                    "FoglalasokSzama": "3"
                                },
                                {
                                    "SZOBA_FK": "51",
                                    "FoglalasokSzama": "3"
                                },
                                {
                                    "SZOBA_FK": "52",
                                    "FoglalasokSzama": "5"
                                },
                                {
                                    "SZOBA_FK": "54",
                                    "FoglalasokSzama": "4"
                                },
                                {
                                    "SZOBA_FK": "55",
                                    "FoglalasokSzama": "3"
                                },
                                {
                                    "SZOBA_FK": "56",
                                    "FoglalasokSzama": "1"
                                },
                                {
                                    "SZOBA_FK": "57",
                                    "FoglalasokSzama": "3"
                                },
                                {
                                    "SZOBA_FK": "58",
                                    "FoglalasokSzama": "8"
                                },
                                {
                                    "SZOBA_FK": "59",
                                    "FoglalasokSzama": "4"
                                },
                                {
                                    "SZOBA_FK": "60",
                                    "FoglalasokSzama": "1"
                                },
                                {
                                    "SZOBA_FK": "61",
                                    "FoglalasokSzama": "4"
                                },
                                {
                                    "SZOBA_FK": "62",
                                    "FoglalasokSzama": "3"
                                },
                                {
                                    "SZOBA_FK": "63",
                                    "FoglalasokSzama": "3"
                                },
                                {
                                    "SZOBA_FK": "64",
                                    "FoglalasokSzama": "5"
                                },
                                {
                                    "SZOBA_FK": "66",
                                    "FoglalasokSzama": "3"
                                },
                                {
                                    "SZOBA_FK": "67",
                                    "FoglalasokSzama": "2"
                                },
                                {
                                    "SZOBA_FK": "69",
                                    "FoglalasokSzama": "2"
                                },
                                {
                                    "SZOBA_FK": "70",
                                    "FoglalasokSzama": "8"
                                },
                                {
                                    "SZOBA_FK": "71",
                                    "FoglalasokSzama": "2"
                                },
                                {
                                    "SZOBA_FK": "72",
                                    "FoglalasokSzama": "2"
                                },
                                {
                                    "SZOBA_FK": "73",
                                    "FoglalasokSzama": "4"
                                },
                                {
                                    "SZOBA_FK": "74",
                                    "FoglalasokSzama": "8"
                                },
                                {
                                    "SZOBA_FK": "75",
                                    "FoglalasokSzama": "2"
                                },
                                {
                                    "SZOBA_FK": "76",
                                    "FoglalasokSzama": "2"
                                },
                                {
                                    "SZOBA_FK": "77",
                                    "FoglalasokSzama": "3"
                                },
                                {
                                    "SZOBA_FK": "78",
                                    "FoglalasokSzama": "3"
                                },
                                {
                                    "SZOBA_FK": "79",
                                    "FoglalasokSzama": "4"
                                },
                                {
                                    "SZOBA_FK": "80",
                                    "FoglalasokSzama": "5"
                                },
                                {
                                    "SZOBA_FK": "81",
                                    "FoglalasokSzama": "3"
                                },
                                {
                                    "SZOBA_FK": "82",
                                    "FoglalasokSzama": "5"
                                },
                                {
                                    "SZOBA_FK": "83",
                                    "FoglalasokSzama": "5"
                                },
                                {
                                    "SZOBA_FK": "84",
                                    "FoglalasokSzama": "3"
                                },
                                {
                                    "SZOBA_FK": "85",
                                    "FoglalasokSzama": "2"
                                },
                                {
                                    "SZOBA_FK": "86",
                                    "FoglalasokSzama": "4"
                                },
                                {
                                    "SZOBA_FK": "87",
                                    "FoglalasokSzama": "5"
                                },
                                {
                                    "SZOBA_FK": "88",
                                    "FoglalasokSzama": "5"
                                },
                                {
                                    "SZOBA_FK": "89",
                                    "FoglalasokSzama": "8"
                                },
                                {
                                    "SZOBA_FK": "90",
                                    "FoglalasokSzama": "3"
                                },
                                {
                                    "SZOBA_FK": "91",
                                    "FoglalasokSzama": "2"
                                },
                                {
                                    "SZOBA_FK": "92",
                                    "FoglalasokSzama": "5"
                                },
                                {
                                    "SZOBA_FK": "93",
                                    "FoglalasokSzama": "3"
                                },
                                {
                                    "SZOBA_FK": "94",
                                    "FoglalasokSzama": "6"
                                },
                                {
                                    "SZOBA_FK": "95",
                                    "FoglalasokSzama": "3"
                                },
                                {
                                    "SZOBA_FK": "96",
                                    "FoglalasokSzama": "6"
                                },
                                {
                                    "SZOBA_FK": "97",
                                    "FoglalasokSzama": "5"
                                },
                                {
                                    "SZOBA_FK": "98",
                                    "FoglalasokSzama": "4"
                                },
                                {
                                    "SZOBA_FK": "99",
                                    "FoglalasokSzama": "4"
                                },
                                {
                                    "SZOBA_FK": "100",
                                    "FoglalasokSzama": "2"
                                },
                                {
                                    "SZOBA_FK": "101",
                                    "FoglalasokSzama": "1"
                                },
                                {
                                    "SZOBA_FK": "102",
                                    "FoglalasokSzama": "1"
                                },
                                {
                                    "SZOBA_FK": "103",
                                    "FoglalasokSzama": "1"
                                },
                                {
                                    "SZOBA_FK": "104",
                                    "FoglalasokSzama": "3"
                                },
                                {
                                    "SZOBA_FK": "106",
                                    "FoglalasokSzama": "4"
                                },
                                {
                                    "SZOBA_FK": "107",
                                    "FoglalasokSzama": "4"
                                },
                                {
                                    "SZOBA_FK": "108",
                                    "FoglalasokSzama": "1"
                                },
                                {
                                    "SZOBA_FK": "109",
                                    "FoglalasokSzama": "2"
                                },
                                {
                                    "SZOBA_FK": "110",
                                    "FoglalasokSzama": "5"
                                },
                                {
                                    "SZOBA_FK": "111",
                                    "FoglalasokSzama": "1"
                                },
                                {
                                    "SZOBA_FK": "112",
                                    "FoglalasokSzama": "4"
                                },
                                {
                                    "SZOBA_FK": "113",
                                    "FoglalasokSzama": "2"
                                },
                                {
                                    "SZOBA_FK": "114",
                                    "FoglalasokSzama": "1"
                                },
                                {
                                    "SZOBA_FK": "115",
                                    "FoglalasokSzama": "5"
                                },
                                {
                                    "SZOBA_FK": "117",
                                    "FoglalasokSzama": "4"
                                },
                                {
                                    "SZOBA_FK": "118",
                                    "FoglalasokSzama": "2"
                                },
                                {
                                    "SZOBA_FK": "119",
                                    "FoglalasokSzama": "4"
                                },
                                {
                                    "SZOBA_FK": "120",
                                    "FoglalasokSzama": "2"
                                },
                                {
                                    "SZOBA_FK": "121",
                                    "FoglalasokSzama": "5"
                                },
                                {
                                    "SZOBA_FK": "122",
                                    "FoglalasokSzama": "3"
                                },
                                {
                                    "SZOBA_FK": "123",
                                    "FoglalasokSzama": "5"
                                },
                                {
                                    "SZOBA_FK": "124",
                                    "FoglalasokSzama": "4"
                                },
                                {
                                    "SZOBA_FK": "126",
                                    "FoglalasokSzama": "4"
                                },
                                {
                                    "SZOBA_FK": "127",
                                    "FoglalasokSzama": "5"
                                },
                                {
                                    "SZOBA_FK": "129",
                                    "FoglalasokSzama": "3"
                                },
                                {
                                    "SZOBA_FK": "130",
                                    "FoglalasokSzama": "5"
                                },
                                {
                                    "SZOBA_FK": "131",
                                    "FoglalasokSzama": "4"
                                },
                                {
                                    "SZOBA_FK": "132",
                                    "FoglalasokSzama": "4"
                                },
                                {
                                    "SZOBA_FK": "133",
                                    "FoglalasokSzama": "4"
                                },
                                {
                                    "SZOBA_FK": "134",
                                    "FoglalasokSzama": "4"
                                },
                                {
                                    "SZOBA_FK": "135",
                                    "FoglalasokSzama": "3"
                                },
                                {
                                    "SZOBA_FK": "136",
                                    "FoglalasokSzama": "2"
                                },
                                {
                                    "SZOBA_FK": "137",
                                    "FoglalasokSzama": "2"
                                },
                                {
                                    "SZOBA_FK": "138",
                                    "FoglalasokSzama": "5"
                                },
                                {
                                    "SZOBA_FK": "139",
                                    "FoglalasokSzama": "6"
                                },
                                {
                                    "SZOBA_FK": "140",
                                    "FoglalasokSzama": "5"
                                },
                                {
                                    "SZOBA_FK": "141",
                                    "FoglalasokSzama": "4"
                                },
                                {
                                    "SZOBA_FK": "142",
                                    "FoglalasokSzama": "1"
                                },
                                {
                                    "SZOBA_FK": "143",
                                    "FoglalasokSzama": "5"
                                },
                                {
                                    "SZOBA_FK": "144",
                                    "FoglalasokSzama": "2"
                                },
                                {
                                    "SZOBA_FK": "145",
                                    "FoglalasokSzama": "2"
                                },
                                {
                                    "SZOBA_FK": "146",
                                    "FoglalasokSzama": "3"
                                },
                                {
                                    "SZOBA_FK": "147",
                                    "FoglalasokSzama": "1"
                                },
                                {
                                    "SZOBA_FK": "148",
                                    "FoglalasokSzama": "5"
                                },
                                {
                                    "SZOBA_FK": "149",
                                    "FoglalasokSzama": "5"
                                },
                                {
                                    "SZOBA_FK": "150",
                                    "FoglalasokSzama": "6"
                                },
                                {
                                    "SZOBA_FK": "151",
                                    "FoglalasokSzama": "2"
                                },
                                {
                                    "SZOBA_FK": "152",
                                    "FoglalasokSzama": "3"
                                },
                                {
                                    "SZOBA_FK": "153",
                                    "FoglalasokSzama": "4"
                                },
                                {
                                    "SZOBA_FK": "154",
                                    "FoglalasokSzama": "3"
                                },
                                {
                                    "SZOBA_FK": "155",
                                    "FoglalasokSzama": "3"
                                },
                                {
                                    "SZOBA_FK": "156",
                                    "FoglalasokSzama": "2"
                                },
                                {
                                    "SZOBA_FK": "157",
                                    "FoglalasokSzama": "2"
                                },
                                {
                                    "SZOBA_FK": "158",
                                    "FoglalasokSzama": "3"
                                },
                                {
                                    "SZOBA_FK": "160",
                                    "FoglalasokSzama": "2"
                                },
                                {
                                    "SZOBA_FK": "161",
                                    "FoglalasokSzama": "3"
                                },
                                {
                                    "SZOBA_FK": "162",
                                    "FoglalasokSzama": "2"
                                },
                                {
                                    "SZOBA_FK": "163",
                                    "FoglalasokSzama": "5"
                                },
                                {
                                    "SZOBA_FK": "164",
                                    "FoglalasokSzama": "4"
                                },
                                {
                                    "SZOBA_FK": "165",
                                    "FoglalasokSzama": "5"
                                },
                                {
                                    "SZOBA_FK": "166",
                                    "FoglalasokSzama": "3"
                                },
                                {
                                    "SZOBA_FK": "167",
                                    "FoglalasokSzama": "2"
                                },
                                {
                                    "SZOBA_FK": "168",
                                    "FoglalasokSzama": "1"
                                },
                                {
                                    "SZOBA_FK": "169",
                                    "FoglalasokSzama": "3"
                                },
                                {
                                    "SZOBA_FK": "170",
                                    "FoglalasokSzama": "3"
                                },
                                {
                                    "SZOBA_FK": "171",
                                    "FoglalasokSzama": "5"
                                },
                                {
                                    "SZOBA_FK": "172",
                                    "FoglalasokSzama": "6"
                                },
                                {
                                    "SZOBA_FK": "173",
                                    "FoglalasokSzama": "3"
                                },
                                {
                                    "SZOBA_FK": "174",
                                    "FoglalasokSzama": "4"
                                },
                                {
                                    "SZOBA_FK": "175",
                                    "FoglalasokSzama": "3"
                                },
                                {
                                    "SZOBA_FK": "176",
                                    "FoglalasokSzama": "2"
                                },
                                {
                                    "SZOBA_FK": "177",
                                    "FoglalasokSzama": "1"
                                },
                                {
                                    "SZOBA_FK": "178",
                                    "FoglalasokSzama": "1"
                                },
                                {
                                    "SZOBA_FK": "179",
                                    "FoglalasokSzama": "2"
                                },
                                {
                                    "SZOBA_FK": "180",
                                    "FoglalasokSzama": "1"
                                },
                                {
                                    "SZOBA_FK": "181",
                                    "FoglalasokSzama": "5"
                                },
                                {
                                    "SZOBA_FK": "182",
                                    "FoglalasokSzama": "11"
                                },
                                {
                                    "SZOBA_FK": "183",
                                    "FoglalasokSzama": "3"
                                },
                                {
                                    "SZOBA_FK": "184",
                                    "FoglalasokSzama": "4"
                                },
                                {
                                    "SZOBA_FK": "185",
                                    "FoglalasokSzama": "10"
                                },
                                {
                                    "SZOBA_FK": "186",
                                    "FoglalasokSzama": "1"
                                },
                                {
                                    "SZOBA_FK": "187",
                                    "FoglalasokSzama": "6"
                                },
                                {
                                    "SZOBA_FK": "188",
                                    "FoglalasokSzama": "2"
                                },
                                {
                                    "SZOBA_FK": "189",
                                    "FoglalasokSzama": "1"
                                },
                                {
                                    "SZOBA_FK": "190",
                                    "FoglalasokSzama": "5"
                                },
                                {
                                    "SZOBA_FK": "191",
                                    "FoglalasokSzama": "3"
                                },
                                {
                                    "SZOBA_FK": "192",
                                    "FoglalasokSzama": "1"
                                },
                                {
                                    "SZOBA_FK": "193",
                                    "FoglalasokSzama": "2"
                                },
                                {
                                    "SZOBA_FK": "194",
                                    "FoglalasokSzama": "1"
                                },
                                {
                                    "SZOBA_FK": "195",
                                    "FoglalasokSzama": "5"
                                },
                                {
                                    "SZOBA_FK": "196",
                                    "FoglalasokSzama": "2"
                                },
                                {
                                    "SZOBA_FK": "197",
                                    "FoglalasokSzama": "6"
                                },
                                {
                                    "SZOBA_FK": "198",
                                    "FoglalasokSzama": "7"
                                },
                                {
                                    "SZOBA_FK": "NULL",
                                    "FoglalasokSzama": "668"
                                }
                            ]
                        },
                        "text/html": [
                            "<table>",
                            "<tr><th>SZOBA_FK</th><th>FoglalasokSzama</th></tr>",
                            "<tr><td>1</td><td>7</td></tr>",
                            "<tr><td>2</td><td>2</td></tr>",
                            "<tr><td>3</td><td>3</td></tr>",
                            "<tr><td>4</td><td>5</td></tr>",
                            "<tr><td>5</td><td>2</td></tr>",
                            "<tr><td>6</td><td>5</td></tr>",
                            "<tr><td>7</td><td>6</td></tr>",
                            "<tr><td>8</td><td>5</td></tr>",
                            "<tr><td>9</td><td>4</td></tr>",
                            "<tr><td>10</td><td>4</td></tr>",
                            "<tr><td>11</td><td>4</td></tr>",
                            "<tr><td>12</td><td>7</td></tr>",
                            "<tr><td>13</td><td>4</td></tr>",
                            "<tr><td>14</td><td>3</td></tr>",
                            "<tr><td>15</td><td>4</td></tr>",
                            "<tr><td>16</td><td>1</td></tr>",
                            "<tr><td>17</td><td>2</td></tr>",
                            "<tr><td>18</td><td>3</td></tr>",
                            "<tr><td>19</td><td>4</td></tr>",
                            "<tr><td>20</td><td>5</td></tr>",
                            "<tr><td>21</td><td>1</td></tr>",
                            "<tr><td>22</td><td>2</td></tr>",
                            "<tr><td>23</td><td>3</td></tr>",
                            "<tr><td>24</td><td>3</td></tr>",
                            "<tr><td>25</td><td>1</td></tr>",
                            "<tr><td>27</td><td>5</td></tr>",
                            "<tr><td>28</td><td>5</td></tr>",
                            "<tr><td>29</td><td>3</td></tr>",
                            "<tr><td>30</td><td>2</td></tr>",
                            "<tr><td>31</td><td>1</td></tr>",
                            "<tr><td>32</td><td>1</td></tr>",
                            "<tr><td>33</td><td>3</td></tr>",
                            "<tr><td>34</td><td>3</td></tr>",
                            "<tr><td>35</td><td>6</td></tr>",
                            "<tr><td>36</td><td>4</td></tr>",
                            "<tr><td>37</td><td>2</td></tr>",
                            "<tr><td>38</td><td>5</td></tr>",
                            "<tr><td>39</td><td>4</td></tr>",
                            "<tr><td>40</td><td>3</td></tr>",
                            "<tr><td>41</td><td>1</td></tr>",
                            "<tr><td>42</td><td>5</td></tr>",
                            "<tr><td>43</td><td>4</td></tr>",
                            "<tr><td>44</td><td>6</td></tr>",
                            "<tr><td>45</td><td>4</td></tr>",
                            "<tr><td>46</td><td>3</td></tr>",
                            "<tr><td>47</td><td>2</td></tr>",
                            "<tr><td>48</td><td>6</td></tr>",
                            "<tr><td>49</td><td>5</td></tr>",
                            "<tr><td>50</td><td>3</td></tr>",
                            "<tr><td>51</td><td>3</td></tr>",
                            "<tr><td>52</td><td>5</td></tr>",
                            "<tr><td>54</td><td>4</td></tr>",
                            "<tr><td>55</td><td>3</td></tr>",
                            "<tr><td>56</td><td>1</td></tr>",
                            "<tr><td>57</td><td>3</td></tr>",
                            "<tr><td>58</td><td>8</td></tr>",
                            "<tr><td>59</td><td>4</td></tr>",
                            "<tr><td>60</td><td>1</td></tr>",
                            "<tr><td>61</td><td>4</td></tr>",
                            "<tr><td>62</td><td>3</td></tr>",
                            "<tr><td>63</td><td>3</td></tr>",
                            "<tr><td>64</td><td>5</td></tr>",
                            "<tr><td>66</td><td>3</td></tr>",
                            "<tr><td>67</td><td>2</td></tr>",
                            "<tr><td>69</td><td>2</td></tr>",
                            "<tr><td>70</td><td>8</td></tr>",
                            "<tr><td>71</td><td>2</td></tr>",
                            "<tr><td>72</td><td>2</td></tr>",
                            "<tr><td>73</td><td>4</td></tr>",
                            "<tr><td>74</td><td>8</td></tr>",
                            "<tr><td>75</td><td>2</td></tr>",
                            "<tr><td>76</td><td>2</td></tr>",
                            "<tr><td>77</td><td>3</td></tr>",
                            "<tr><td>78</td><td>3</td></tr>",
                            "<tr><td>79</td><td>4</td></tr>",
                            "<tr><td>80</td><td>5</td></tr>",
                            "<tr><td>81</td><td>3</td></tr>",
                            "<tr><td>82</td><td>5</td></tr>",
                            "<tr><td>83</td><td>5</td></tr>",
                            "<tr><td>84</td><td>3</td></tr>",
                            "<tr><td>85</td><td>2</td></tr>",
                            "<tr><td>86</td><td>4</td></tr>",
                            "<tr><td>87</td><td>5</td></tr>",
                            "<tr><td>88</td><td>5</td></tr>",
                            "<tr><td>89</td><td>8</td></tr>",
                            "<tr><td>90</td><td>3</td></tr>",
                            "<tr><td>91</td><td>2</td></tr>",
                            "<tr><td>92</td><td>5</td></tr>",
                            "<tr><td>93</td><td>3</td></tr>",
                            "<tr><td>94</td><td>6</td></tr>",
                            "<tr><td>95</td><td>3</td></tr>",
                            "<tr><td>96</td><td>6</td></tr>",
                            "<tr><td>97</td><td>5</td></tr>",
                            "<tr><td>98</td><td>4</td></tr>",
                            "<tr><td>99</td><td>4</td></tr>",
                            "<tr><td>100</td><td>2</td></tr>",
                            "<tr><td>101</td><td>1</td></tr>",
                            "<tr><td>102</td><td>1</td></tr>",
                            "<tr><td>103</td><td>1</td></tr>",
                            "<tr><td>104</td><td>3</td></tr>",
                            "<tr><td>106</td><td>4</td></tr>",
                            "<tr><td>107</td><td>4</td></tr>",
                            "<tr><td>108</td><td>1</td></tr>",
                            "<tr><td>109</td><td>2</td></tr>",
                            "<tr><td>110</td><td>5</td></tr>",
                            "<tr><td>111</td><td>1</td></tr>",
                            "<tr><td>112</td><td>4</td></tr>",
                            "<tr><td>113</td><td>2</td></tr>",
                            "<tr><td>114</td><td>1</td></tr>",
                            "<tr><td>115</td><td>5</td></tr>",
                            "<tr><td>117</td><td>4</td></tr>",
                            "<tr><td>118</td><td>2</td></tr>",
                            "<tr><td>119</td><td>4</td></tr>",
                            "<tr><td>120</td><td>2</td></tr>",
                            "<tr><td>121</td><td>5</td></tr>",
                            "<tr><td>122</td><td>3</td></tr>",
                            "<tr><td>123</td><td>5</td></tr>",
                            "<tr><td>124</td><td>4</td></tr>",
                            "<tr><td>126</td><td>4</td></tr>",
                            "<tr><td>127</td><td>5</td></tr>",
                            "<tr><td>129</td><td>3</td></tr>",
                            "<tr><td>130</td><td>5</td></tr>",
                            "<tr><td>131</td><td>4</td></tr>",
                            "<tr><td>132</td><td>4</td></tr>",
                            "<tr><td>133</td><td>4</td></tr>",
                            "<tr><td>134</td><td>4</td></tr>",
                            "<tr><td>135</td><td>3</td></tr>",
                            "<tr><td>136</td><td>2</td></tr>",
                            "<tr><td>137</td><td>2</td></tr>",
                            "<tr><td>138</td><td>5</td></tr>",
                            "<tr><td>139</td><td>6</td></tr>",
                            "<tr><td>140</td><td>5</td></tr>",
                            "<tr><td>141</td><td>4</td></tr>",
                            "<tr><td>142</td><td>1</td></tr>",
                            "<tr><td>143</td><td>5</td></tr>",
                            "<tr><td>144</td><td>2</td></tr>",
                            "<tr><td>145</td><td>2</td></tr>",
                            "<tr><td>146</td><td>3</td></tr>",
                            "<tr><td>147</td><td>1</td></tr>",
                            "<tr><td>148</td><td>5</td></tr>",
                            "<tr><td>149</td><td>5</td></tr>",
                            "<tr><td>150</td><td>6</td></tr>",
                            "<tr><td>151</td><td>2</td></tr>",
                            "<tr><td>152</td><td>3</td></tr>",
                            "<tr><td>153</td><td>4</td></tr>",
                            "<tr><td>154</td><td>3</td></tr>",
                            "<tr><td>155</td><td>3</td></tr>",
                            "<tr><td>156</td><td>2</td></tr>",
                            "<tr><td>157</td><td>2</td></tr>",
                            "<tr><td>158</td><td>3</td></tr>",
                            "<tr><td>160</td><td>2</td></tr>",
                            "<tr><td>161</td><td>3</td></tr>",
                            "<tr><td>162</td><td>2</td></tr>",
                            "<tr><td>163</td><td>5</td></tr>",
                            "<tr><td>164</td><td>4</td></tr>",
                            "<tr><td>165</td><td>5</td></tr>",
                            "<tr><td>166</td><td>3</td></tr>",
                            "<tr><td>167</td><td>2</td></tr>",
                            "<tr><td>168</td><td>1</td></tr>",
                            "<tr><td>169</td><td>3</td></tr>",
                            "<tr><td>170</td><td>3</td></tr>",
                            "<tr><td>171</td><td>5</td></tr>",
                            "<tr><td>172</td><td>6</td></tr>",
                            "<tr><td>173</td><td>3</td></tr>",
                            "<tr><td>174</td><td>4</td></tr>",
                            "<tr><td>175</td><td>3</td></tr>",
                            "<tr><td>176</td><td>2</td></tr>",
                            "<tr><td>177</td><td>1</td></tr>",
                            "<tr><td>178</td><td>1</td></tr>",
                            "<tr><td>179</td><td>2</td></tr>",
                            "<tr><td>180</td><td>1</td></tr>",
                            "<tr><td>181</td><td>5</td></tr>",
                            "<tr><td>182</td><td>11</td></tr>",
                            "<tr><td>183</td><td>3</td></tr>",
                            "<tr><td>184</td><td>4</td></tr>",
                            "<tr><td>185</td><td>10</td></tr>",
                            "<tr><td>186</td><td>1</td></tr>",
                            "<tr><td>187</td><td>6</td></tr>",
                            "<tr><td>188</td><td>2</td></tr>",
                            "<tr><td>189</td><td>1</td></tr>",
                            "<tr><td>190</td><td>5</td></tr>",
                            "<tr><td>191</td><td>3</td></tr>",
                            "<tr><td>192</td><td>1</td></tr>",
                            "<tr><td>193</td><td>2</td></tr>",
                            "<tr><td>194</td><td>1</td></tr>",
                            "<tr><td>195</td><td>5</td></tr>",
                            "<tr><td>196</td><td>2</td></tr>",
                            "<tr><td>197</td><td>6</td></tr>",
                            "<tr><td>198</td><td>7</td></tr>",
                            "<tr><td>NULL</td><td>668</td></tr>",
                            "</table>"
                        ]
                    }
                }
            ],
            "execution_count": 7
        },
        {
            "cell_type": "code",
            "source": [
                "SELECT \r\n",
                "  SZOBA_FK, \r\n",
                "  FEROHELY,\r\n",
                "  DENSE_RANK() OVER (ORDER BY COUNT(*) DESC, FEROHELY ASC) AS Helyezes\r\n",
                "FROM Foglalas f\r\n",
                "JOIN Szoba s ON f.SZOBA_FK = s.SZOBA_ID\r\n",
                "GROUP BY \r\n",
                "  SZOBA_FK, FEROHELY\r\n",
                ""
            ],
            "metadata": {
                "azdata_cell_guid": "1b5c3cd4-d9a1-4487-824a-c5d3739cc411",
                "language": "sql"
            },
            "outputs": [
                {
                    "output_type": "display_data",
                    "data": {
                        "text/html": "(197 rows affected)"
                    },
                    "metadata": {}
                },
                {
                    "output_type": "display_data",
                    "data": {
                        "text/html": "Total execution time: 00:00:00.013"
                    },
                    "metadata": {}
                },
                {
                    "output_type": "execute_result",
                    "metadata": {},
                    "execution_count": 2,
                    "data": {
                        "application/vnd.dataresource+json": {
                            "schema": {
                                "fields": [
                                    {
                                        "name": "SZOBA_FK"
                                    },
                                    {
                                        "name": "FEROHELY"
                                    },
                                    {
                                        "name": "Helyezes"
                                    }
                                ]
                            },
                            "data": [
                                {
                                    "SZOBA_FK": "58",
                                    "FEROHELY": "2",
                                    "Helyezes": "1"
                                },
                                {
                                    "SZOBA_FK": "182",
                                    "FEROHELY": "2",
                                    "Helyezes": "2"
                                },
                                {
                                    "SZOBA_FK": "185",
                                    "FEROHELY": "3",
                                    "Helyezes": "3"
                                },
                                {
                                    "SZOBA_FK": "70",
                                    "FEROHELY": "2",
                                    "Helyezes": "4"
                                },
                                {
                                    "SZOBA_FK": "94",
                                    "FEROHELY": "2",
                                    "Helyezes": "5"
                                },
                                {
                                    "SZOBA_FK": "12",
                                    "FEROHELY": "2",
                                    "Helyezes": "6"
                                },
                                {
                                    "SZOBA_FK": "172",
                                    "FEROHELY": "2",
                                    "Helyezes": "6"
                                },
                                {
                                    "SZOBA_FK": "35",
                                    "FEROHELY": "3",
                                    "Helyezes": "7"
                                },
                                {
                                    "SZOBA_FK": "48",
                                    "FEROHELY": "3",
                                    "Helyezes": "7"
                                },
                                {
                                    "SZOBA_FK": "74",
                                    "FEROHELY": "3",
                                    "Helyezes": "7"
                                },
                                {
                                    "SZOBA_FK": "122",
                                    "FEROHELY": "3",
                                    "Helyezes": "7"
                                },
                                {
                                    "SZOBA_FK": "121",
                                    "FEROHELY": "2",
                                    "Helyezes": "8"
                                },
                                {
                                    "SZOBA_FK": "140",
                                    "FEROHELY": "2",
                                    "Helyezes": "8"
                                },
                                {
                                    "SZOBA_FK": "110",
                                    "FEROHELY": "2",
                                    "Helyezes": "8"
                                },
                                {
                                    "SZOBA_FK": "55",
                                    "FEROHELY": "2",
                                    "Helyezes": "8"
                                },
                                {
                                    "SZOBA_FK": "38",
                                    "FEROHELY": "2",
                                    "Helyezes": "8"
                                },
                                {
                                    "SZOBA_FK": "1",
                                    "FEROHELY": "3",
                                    "Helyezes": "9"
                                },
                                {
                                    "SZOBA_FK": "3",
                                    "FEROHELY": "3",
                                    "Helyezes": "9"
                                },
                                {
                                    "SZOBA_FK": "43",
                                    "FEROHELY": "3",
                                    "Helyezes": "9"
                                },
                                {
                                    "SZOBA_FK": "83",
                                    "FEROHELY": "3",
                                    "Helyezes": "9"
                                },
                                {
                                    "SZOBA_FK": "88",
                                    "FEROHELY": "3",
                                    "Helyezes": "9"
                                },
                                {
                                    "SZOBA_FK": "89",
                                    "FEROHELY": "3",
                                    "Helyezes": "9"
                                },
                                {
                                    "SZOBA_FK": "117",
                                    "FEROHELY": "3",
                                    "Helyezes": "9"
                                },
                                {
                                    "SZOBA_FK": "198",
                                    "FEROHELY": "3",
                                    "Helyezes": "9"
                                },
                                {
                                    "SZOBA_FK": "149",
                                    "FEROHELY": "2",
                                    "Helyezes": "10"
                                },
                                {
                                    "SZOBA_FK": "156",
                                    "FEROHELY": "2",
                                    "Helyezes": "10"
                                },
                                {
                                    "SZOBA_FK": "163",
                                    "FEROHELY": "2",
                                    "Helyezes": "10"
                                },
                                {
                                    "SZOBA_FK": "165",
                                    "FEROHELY": "2",
                                    "Helyezes": "10"
                                },
                                {
                                    "SZOBA_FK": "118",
                                    "FEROHELY": "2",
                                    "Helyezes": "10"
                                },
                                {
                                    "SZOBA_FK": "109",
                                    "FEROHELY": "2",
                                    "Helyezes": "10"
                                },
                                {
                                    "SZOBA_FK": "127",
                                    "FEROHELY": "2",
                                    "Helyezes": "10"
                                },
                                {
                                    "SZOBA_FK": "139",
                                    "FEROHELY": "2",
                                    "Helyezes": "10"
                                },
                                {
                                    "SZOBA_FK": "80",
                                    "FEROHELY": "2",
                                    "Helyezes": "10"
                                },
                                {
                                    "SZOBA_FK": "59",
                                    "FEROHELY": "2",
                                    "Helyezes": "10"
                                },
                                {
                                    "SZOBA_FK": "39",
                                    "FEROHELY": "2",
                                    "Helyezes": "10"
                                },
                                {
                                    "SZOBA_FK": "27",
                                    "FEROHELY": "3",
                                    "Helyezes": "11"
                                },
                                {
                                    "SZOBA_FK": "49",
                                    "FEROHELY": "3",
                                    "Helyezes": "11"
                                },
                                {
                                    "SZOBA_FK": "96",
                                    "FEROHELY": "3",
                                    "Helyezes": "11"
                                },
                                {
                                    "SZOBA_FK": "97",
                                    "FEROHELY": "3",
                                    "Helyezes": "11"
                                },
                                {
                                    "SZOBA_FK": "138",
                                    "FEROHELY": "3",
                                    "Helyezes": "11"
                                },
                                {
                                    "SZOBA_FK": "143",
                                    "FEROHELY": "3",
                                    "Helyezes": "11"
                                },
                                {
                                    "SZOBA_FK": "115",
                                    "FEROHELY": "3",
                                    "Helyezes": "11"
                                },
                                {
                                    "SZOBA_FK": "187",
                                    "FEROHELY": "3",
                                    "Helyezes": "11"
                                },
                                {
                                    "SZOBA_FK": "193",
                                    "FEROHELY": "3",
                                    "Helyezes": "11"
                                },
                                {
                                    "SZOBA_FK": "195",
                                    "FEROHELY": "2",
                                    "Helyezes": "12"
                                },
                                {
                                    "SZOBA_FK": "161",
                                    "FEROHELY": "2",
                                    "Helyezes": "12"
                                },
                                {
                                    "SZOBA_FK": "150",
                                    "FEROHELY": "2",
                                    "Helyezes": "12"
                                },
                                {
                                    "SZOBA_FK": "148",
                                    "FEROHELY": "2",
                                    "Helyezes": "12"
                                },
                                {
                                    "SZOBA_FK": "169",
                                    "FEROHELY": "2",
                                    "Helyezes": "12"
                                },
                                {
                                    "SZOBA_FK": "106",
                                    "FEROHELY": "2",
                                    "Helyezes": "12"
                                },
                                {
                                    "SZOBA_FK": "126",
                                    "FEROHELY": "2",
                                    "Helyezes": "12"
                                },
                                {
                                    "SZOBA_FK": "145",
                                    "FEROHELY": "2",
                                    "Helyezes": "12"
                                },
                                {
                                    "SZOBA_FK": "141",
                                    "FEROHELY": "2",
                                    "Helyezes": "12"
                                },
                                {
                                    "SZOBA_FK": "130",
                                    "FEROHELY": "2",
                                    "Helyezes": "12"
                                },
                                {
                                    "SZOBA_FK": "137",
                                    "FEROHELY": "2",
                                    "Helyezes": "12"
                                },
                                {
                                    "SZOBA_FK": "78",
                                    "FEROHELY": "2",
                                    "Helyezes": "12"
                                },
                                {
                                    "SZOBA_FK": "42",
                                    "FEROHELY": "2",
                                    "Helyezes": "12"
                                },
                                {
                                    "SZOBA_FK": "64",
                                    "FEROHELY": "2",
                                    "Helyezes": "12"
                                },
                                {
                                    "SZOBA_FK": "67",
                                    "FEROHELY": "2",
                                    "Helyezes": "12"
                                },
                                {
                                    "SZOBA_FK": "28",
                                    "FEROHELY": "2",
                                    "Helyezes": "12"
                                },
                                {
                                    "SZOBA_FK": "29",
                                    "FEROHELY": "2",
                                    "Helyezes": "12"
                                },
                                {
                                    "SZOBA_FK": "19",
                                    "FEROHELY": "2",
                                    "Helyezes": "12"
                                },
                                {
                                    "SZOBA_FK": "33",
                                    "FEROHELY": "2",
                                    "Helyezes": "12"
                                },
                                {
                                    "SZOBA_FK": "4",
                                    "FEROHELY": "2",
                                    "Helyezes": "12"
                                },
                                {
                                    "SZOBA_FK": "7",
                                    "FEROHELY": "2",
                                    "Helyezes": "12"
                                },
                                {
                                    "SZOBA_FK": "15",
                                    "FEROHELY": "2",
                                    "Helyezes": "12"
                                },
                                {
                                    "SZOBA_FK": "17",
                                    "FEROHELY": "3",
                                    "Helyezes": "13"
                                },
                                {
                                    "SZOBA_FK": "18",
                                    "FEROHELY": "3",
                                    "Helyezes": "13"
                                },
                                {
                                    "SZOBA_FK": "6",
                                    "FEROHELY": "3",
                                    "Helyezes": "13"
                                },
                                {
                                    "SZOBA_FK": "9",
                                    "FEROHELY": "3",
                                    "Helyezes": "13"
                                },
                                {
                                    "SZOBA_FK": "22",
                                    "FEROHELY": "3",
                                    "Helyezes": "13"
                                },
                                {
                                    "SZOBA_FK": "36",
                                    "FEROHELY": "3",
                                    "Helyezes": "13"
                                },
                                {
                                    "SZOBA_FK": "44",
                                    "FEROHELY": "3",
                                    "Helyezes": "13"
                                },
                                {
                                    "SZOBA_FK": "54",
                                    "FEROHELY": "3",
                                    "Helyezes": "13"
                                },
                                {
                                    "SZOBA_FK": "77",
                                    "FEROHELY": "3",
                                    "Helyezes": "13"
                                },
                                {
                                    "SZOBA_FK": "82",
                                    "FEROHELY": "3",
                                    "Helyezes": "13"
                                },
                                {
                                    "SZOBA_FK": "92",
                                    "FEROHELY": "3",
                                    "Helyezes": "13"
                                },
                                {
                                    "SZOBA_FK": "132",
                                    "FEROHELY": "3",
                                    "Helyezes": "13"
                                },
                                {
                                    "SZOBA_FK": "133",
                                    "FEROHELY": "3",
                                    "Helyezes": "13"
                                },
                                {
                                    "SZOBA_FK": "134",
                                    "FEROHELY": "3",
                                    "Helyezes": "13"
                                },
                                {
                                    "SZOBA_FK": "146",
                                    "FEROHELY": "3",
                                    "Helyezes": "13"
                                },
                                {
                                    "SZOBA_FK": "124",
                                    "FEROHELY": "3",
                                    "Helyezes": "13"
                                },
                                {
                                    "SZOBA_FK": "120",
                                    "FEROHELY": "3",
                                    "Helyezes": "13"
                                },
                                {
                                    "SZOBA_FK": "176",
                                    "FEROHELY": "3",
                                    "Helyezes": "13"
                                },
                                {
                                    "SZOBA_FK": "181",
                                    "FEROHELY": "3",
                                    "Helyezes": "13"
                                },
                                {
                                    "SZOBA_FK": "188",
                                    "FEROHELY": "3",
                                    "Helyezes": "13"
                                },
                                {
                                    "SZOBA_FK": "197",
                                    "FEROHELY": "3",
                                    "Helyezes": "13"
                                },
                                {
                                    "SZOBA_FK": "189",
                                    "FEROHELY": "2",
                                    "Helyezes": "14"
                                },
                                {
                                    "SZOBA_FK": "190",
                                    "FEROHELY": "2",
                                    "Helyezes": "14"
                                },
                                {
                                    "SZOBA_FK": "191",
                                    "FEROHELY": "2",
                                    "Helyezes": "14"
                                },
                                {
                                    "SZOBA_FK": "168",
                                    "FEROHELY": "2",
                                    "Helyezes": "14"
                                },
                                {
                                    "SZOBA_FK": "175",
                                    "FEROHELY": "2",
                                    "Helyezes": "14"
                                },
                                {
                                    "SZOBA_FK": "170",
                                    "FEROHELY": "2",
                                    "Helyezes": "14"
                                },
                                {
                                    "SZOBA_FK": "171",
                                    "FEROHELY": "2",
                                    "Helyezes": "14"
                                },
                                {
                                    "SZOBA_FK": "157",
                                    "FEROHELY": "2",
                                    "Helyezes": "14"
                                },
                                {
                                    "SZOBA_FK": "154",
                                    "FEROHELY": "2",
                                    "Helyezes": "14"
                                },
                                {
                                    "SZOBA_FK": "164",
                                    "FEROHELY": "2",
                                    "Helyezes": "14"
                                },
                                {
                                    "SZOBA_FK": "119",
                                    "FEROHELY": "2",
                                    "Helyezes": "14"
                                },
                                {
                                    "SZOBA_FK": "107",
                                    "FEROHELY": "2",
                                    "Helyezes": "14"
                                },
                                {
                                    "SZOBA_FK": "128",
                                    "FEROHELY": "2",
                                    "Helyezes": "14"
                                },
                                {
                                    "SZOBA_FK": "131",
                                    "FEROHELY": "2",
                                    "Helyezes": "14"
                                },
                                {
                                    "SZOBA_FK": "99",
                                    "FEROHELY": "2",
                                    "Helyezes": "14"
                                },
                                {
                                    "SZOBA_FK": "111",
                                    "FEROHELY": "2",
                                    "Helyezes": "14"
                                },
                                {
                                    "SZOBA_FK": "81",
                                    "FEROHELY": "2",
                                    "Helyezes": "14"
                                },
                                {
                                    "SZOBA_FK": "86",
                                    "FEROHELY": "2",
                                    "Helyezes": "14"
                                },
                                {
                                    "SZOBA_FK": "52",
                                    "FEROHELY": "2",
                                    "Helyezes": "14"
                                },
                                {
                                    "SZOBA_FK": "45",
                                    "FEROHELY": "2",
                                    "Helyezes": "14"
                                },
                                {
                                    "SZOBA_FK": "62",
                                    "FEROHELY": "2",
                                    "Helyezes": "14"
                                },
                                {
                                    "SZOBA_FK": "61",
                                    "FEROHELY": "3",
                                    "Helyezes": "15"
                                },
                                {
                                    "SZOBA_FK": "51",
                                    "FEROHELY": "3",
                                    "Helyezes": "15"
                                },
                                {
                                    "SZOBA_FK": "20",
                                    "FEROHELY": "3",
                                    "Helyezes": "15"
                                },
                                {
                                    "SZOBA_FK": "8",
                                    "FEROHELY": "3",
                                    "Helyezes": "15"
                                },
                                {
                                    "SZOBA_FK": "16",
                                    "FEROHELY": "3",
                                    "Helyezes": "15"
                                },
                                {
                                    "SZOBA_FK": "87",
                                    "FEROHELY": "3",
                                    "Helyezes": "15"
                                },
                                {
                                    "SZOBA_FK": "79",
                                    "FEROHELY": "3",
                                    "Helyezes": "15"
                                },
                                {
                                    "SZOBA_FK": "112",
                                    "FEROHELY": "3",
                                    "Helyezes": "15"
                                },
                                {
                                    "SZOBA_FK": "113",
                                    "FEROHELY": "3",
                                    "Helyezes": "15"
                                },
                                {
                                    "SZOBA_FK": "93",
                                    "FEROHELY": "3",
                                    "Helyezes": "15"
                                },
                                {
                                    "SZOBA_FK": "144",
                                    "FEROHELY": "3",
                                    "Helyezes": "15"
                                },
                                {
                                    "SZOBA_FK": "123",
                                    "FEROHELY": "3",
                                    "Helyezes": "15"
                                },
                                {
                                    "SZOBA_FK": "153",
                                    "FEROHELY": "3",
                                    "Helyezes": "15"
                                },
                                {
                                    "SZOBA_FK": "160",
                                    "FEROHELY": "3",
                                    "Helyezes": "15"
                                },
                                {
                                    "SZOBA_FK": "155",
                                    "FEROHELY": "3",
                                    "Helyezes": "15"
                                },
                                {
                                    "SZOBA_FK": "152",
                                    "FEROHELY": "2",
                                    "Helyezes": "16"
                                },
                                {
                                    "SZOBA_FK": "173",
                                    "FEROHELY": "2",
                                    "Helyezes": "16"
                                },
                                {
                                    "SZOBA_FK": "174",
                                    "FEROHELY": "2",
                                    "Helyezes": "16"
                                },
                                {
                                    "SZOBA_FK": "186",
                                    "FEROHELY": "2",
                                    "Helyezes": "16"
                                },
                                {
                                    "SZOBA_FK": "196",
                                    "FEROHELY": "2",
                                    "Helyezes": "16"
                                },
                                {
                                    "SZOBA_FK": "184",
                                    "FEROHELY": "2",
                                    "Helyezes": "16"
                                },
                                {
                                    "SZOBA_FK": "129",
                                    "FEROHELY": "2",
                                    "Helyezes": "16"
                                },
                                {
                                    "SZOBA_FK": "100",
                                    "FEROHELY": "2",
                                    "Helyezes": "16"
                                },
                                {
                                    "SZOBA_FK": "114",
                                    "FEROHELY": "2",
                                    "Helyezes": "16"
                                },
                                {
                                    "SZOBA_FK": "98",
                                    "FEROHELY": "2",
                                    "Helyezes": "16"
                                },
                                {
                                    "SZOBA_FK": "103",
                                    "FEROHELY": "2",
                                    "Helyezes": "16"
                                },
                                {
                                    "SZOBA_FK": "85",
                                    "FEROHELY": "2",
                                    "Helyezes": "16"
                                },
                                {
                                    "SZOBA_FK": "91",
                                    "FEROHELY": "2",
                                    "Helyezes": "16"
                                },
                                {
                                    "SZOBA_FK": "11",
                                    "FEROHELY": "2",
                                    "Helyezes": "16"
                                },
                                {
                                    "SZOBA_FK": "5",
                                    "FEROHELY": "2",
                                    "Helyezes": "16"
                                },
                                {
                                    "SZOBA_FK": "21",
                                    "FEROHELY": "2",
                                    "Helyezes": "16"
                                },
                                {
                                    "SZOBA_FK": "50",
                                    "FEROHELY": "2",
                                    "Helyezes": "16"
                                },
                                {
                                    "SZOBA_FK": "57",
                                    "FEROHELY": "2",
                                    "Helyezes": "16"
                                },
                                {
                                    "SZOBA_FK": "63",
                                    "FEROHELY": "2",
                                    "Helyezes": "16"
                                },
                                {
                                    "SZOBA_FK": "72",
                                    "FEROHELY": "2",
                                    "Helyezes": "16"
                                },
                                {
                                    "SZOBA_FK": "73",
                                    "FEROHELY": "2",
                                    "Helyezes": "16"
                                },
                                {
                                    "SZOBA_FK": "66",
                                    "FEROHELY": "3",
                                    "Helyezes": "17"
                                },
                                {
                                    "SZOBA_FK": "69",
                                    "FEROHELY": "3",
                                    "Helyezes": "17"
                                },
                                {
                                    "SZOBA_FK": "46",
                                    "FEROHELY": "3",
                                    "Helyezes": "17"
                                },
                                {
                                    "SZOBA_FK": "34",
                                    "FEROHELY": "3",
                                    "Helyezes": "17"
                                },
                                {
                                    "SZOBA_FK": "40",
                                    "FEROHELY": "3",
                                    "Helyezes": "17"
                                },
                                {
                                    "SZOBA_FK": "2",
                                    "FEROHELY": "3",
                                    "Helyezes": "17"
                                },
                                {
                                    "SZOBA_FK": "10",
                                    "FEROHELY": "3",
                                    "Helyezes": "17"
                                },
                                {
                                    "SZOBA_FK": "13",
                                    "FEROHELY": "3",
                                    "Helyezes": "17"
                                },
                                {
                                    "SZOBA_FK": "90",
                                    "FEROHELY": "3",
                                    "Helyezes": "17"
                                },
                                {
                                    "SZOBA_FK": "84",
                                    "FEROHELY": "3",
                                    "Helyezes": "17"
                                },
                                {
                                    "SZOBA_FK": "104",
                                    "FEROHELY": "3",
                                    "Helyezes": "17"
                                },
                                {
                                    "SZOBA_FK": "95",
                                    "FEROHELY": "3",
                                    "Helyezes": "17"
                                },
                                {
                                    "SZOBA_FK": "183",
                                    "FEROHELY": "3",
                                    "Helyezes": "17"
                                },
                                {
                                    "SZOBA_FK": "177",
                                    "FEROHELY": "3",
                                    "Helyezes": "17"
                                },
                                {
                                    "SZOBA_FK": "178",
                                    "FEROHELY": "3",
                                    "Helyezes": "17"
                                },
                                {
                                    "SZOBA_FK": "180",
                                    "FEROHELY": "2",
                                    "Helyezes": "18"
                                },
                                {
                                    "SZOBA_FK": "151",
                                    "FEROHELY": "2",
                                    "Helyezes": "18"
                                },
                                {
                                    "SZOBA_FK": "158",
                                    "FEROHELY": "2",
                                    "Helyezes": "18"
                                },
                                {
                                    "SZOBA_FK": "166",
                                    "FEROHELY": "2",
                                    "Helyezes": "18"
                                },
                                {
                                    "SZOBA_FK": "101",
                                    "FEROHELY": "2",
                                    "Helyezes": "18"
                                },
                                {
                                    "SZOBA_FK": "75",
                                    "FEROHELY": "2",
                                    "Helyezes": "18"
                                },
                                {
                                    "SZOBA_FK": "76",
                                    "FEROHELY": "2",
                                    "Helyezes": "18"
                                },
                                {
                                    "SZOBA_FK": "136",
                                    "FEROHELY": "2",
                                    "Helyezes": "18"
                                },
                                {
                                    "SZOBA_FK": "23",
                                    "FEROHELY": "2",
                                    "Helyezes": "18"
                                },
                                {
                                    "SZOBA_FK": "37",
                                    "FEROHELY": "2",
                                    "Helyezes": "18"
                                },
                                {
                                    "SZOBA_FK": "68",
                                    "FEROHELY": "2",
                                    "Helyezes": "18"
                                },
                                {
                                    "SZOBA_FK": "71",
                                    "FEROHELY": "3",
                                    "Helyezes": "19"
                                },
                                {
                                    "SZOBA_FK": "30",
                                    "FEROHELY": "3",
                                    "Helyezes": "19"
                                },
                                {
                                    "SZOBA_FK": "31",
                                    "FEROHELY": "3",
                                    "Helyezes": "19"
                                },
                                {
                                    "SZOBA_FK": "14",
                                    "FEROHELY": "3",
                                    "Helyezes": "19"
                                },
                                {
                                    "SZOBA_FK": "135",
                                    "FEROHELY": "3",
                                    "Helyezes": "19"
                                },
                                {
                                    "SZOBA_FK": "162",
                                    "FEROHELY": "3",
                                    "Helyezes": "19"
                                },
                                {
                                    "SZOBA_FK": "179",
                                    "FEROHELY": "3",
                                    "Helyezes": "19"
                                },
                                {
                                    "SZOBA_FK": "24",
                                    "FEROHELY": "4",
                                    "Helyezes": "20"
                                },
                                {
                                    "SZOBA_FK": "26",
                                    "FEROHELY": "2",
                                    "Helyezes": "21"
                                },
                                {
                                    "SZOBA_FK": "47",
                                    "FEROHELY": "2",
                                    "Helyezes": "21"
                                },
                                {
                                    "SZOBA_FK": "53",
                                    "FEROHELY": "2",
                                    "Helyezes": "21"
                                },
                                {
                                    "SZOBA_FK": "56",
                                    "FEROHELY": "2",
                                    "Helyezes": "21"
                                },
                                {
                                    "SZOBA_FK": "108",
                                    "FEROHELY": "2",
                                    "Helyezes": "21"
                                },
                                {
                                    "SZOBA_FK": "102",
                                    "FEROHELY": "2",
                                    "Helyezes": "21"
                                },
                                {
                                    "SZOBA_FK": "105",
                                    "FEROHELY": "2",
                                    "Helyezes": "21"
                                },
                                {
                                    "SZOBA_FK": "192",
                                    "FEROHELY": "2",
                                    "Helyezes": "21"
                                },
                                {
                                    "SZOBA_FK": "167",
                                    "FEROHELY": "3",
                                    "Helyezes": "22"
                                },
                                {
                                    "SZOBA_FK": "116",
                                    "FEROHELY": "3",
                                    "Helyezes": "22"
                                },
                                {
                                    "SZOBA_FK": "142",
                                    "FEROHELY": "3",
                                    "Helyezes": "22"
                                },
                                {
                                    "SZOBA_FK": "25",
                                    "FEROHELY": "3",
                                    "Helyezes": "22"
                                },
                                {
                                    "SZOBA_FK": "41",
                                    "FEROHELY": "3",
                                    "Helyezes": "22"
                                },
                                {
                                    "SZOBA_FK": "32",
                                    "FEROHELY": "2",
                                    "Helyezes": "23"
                                },
                                {
                                    "SZOBA_FK": "65",
                                    "FEROHELY": "2",
                                    "Helyezes": "23"
                                },
                                {
                                    "SZOBA_FK": "147",
                                    "FEROHELY": "2",
                                    "Helyezes": "23"
                                },
                                {
                                    "SZOBA_FK": "125",
                                    "FEROHELY": "2",
                                    "Helyezes": "23"
                                },
                                {
                                    "SZOBA_FK": "194",
                                    "FEROHELY": "2",
                                    "Helyezes": "23"
                                },
                                {
                                    "SZOBA_FK": "60",
                                    "FEROHELY": "3",
                                    "Helyezes": "24"
                                }
                            ]
                        },
                        "text/html": [
                            "<table>",
                            "<tr><th>SZOBA_FK</th><th>FEROHELY</th><th>Helyezes</th></tr>",
                            "<tr><td>58</td><td>2</td><td>1</td></tr>",
                            "<tr><td>182</td><td>2</td><td>2</td></tr>",
                            "<tr><td>185</td><td>3</td><td>3</td></tr>",
                            "<tr><td>70</td><td>2</td><td>4</td></tr>",
                            "<tr><td>94</td><td>2</td><td>5</td></tr>",
                            "<tr><td>12</td><td>2</td><td>6</td></tr>",
                            "<tr><td>172</td><td>2</td><td>6</td></tr>",
                            "<tr><td>35</td><td>3</td><td>7</td></tr>",
                            "<tr><td>48</td><td>3</td><td>7</td></tr>",
                            "<tr><td>74</td><td>3</td><td>7</td></tr>",
                            "<tr><td>122</td><td>3</td><td>7</td></tr>",
                            "<tr><td>121</td><td>2</td><td>8</td></tr>",
                            "<tr><td>140</td><td>2</td><td>8</td></tr>",
                            "<tr><td>110</td><td>2</td><td>8</td></tr>",
                            "<tr><td>55</td><td>2</td><td>8</td></tr>",
                            "<tr><td>38</td><td>2</td><td>8</td></tr>",
                            "<tr><td>1</td><td>3</td><td>9</td></tr>",
                            "<tr><td>3</td><td>3</td><td>9</td></tr>",
                            "<tr><td>43</td><td>3</td><td>9</td></tr>",
                            "<tr><td>83</td><td>3</td><td>9</td></tr>",
                            "<tr><td>88</td><td>3</td><td>9</td></tr>",
                            "<tr><td>89</td><td>3</td><td>9</td></tr>",
                            "<tr><td>117</td><td>3</td><td>9</td></tr>",
                            "<tr><td>198</td><td>3</td><td>9</td></tr>",
                            "<tr><td>149</td><td>2</td><td>10</td></tr>",
                            "<tr><td>156</td><td>2</td><td>10</td></tr>",
                            "<tr><td>163</td><td>2</td><td>10</td></tr>",
                            "<tr><td>165</td><td>2</td><td>10</td></tr>",
                            "<tr><td>118</td><td>2</td><td>10</td></tr>",
                            "<tr><td>109</td><td>2</td><td>10</td></tr>",
                            "<tr><td>127</td><td>2</td><td>10</td></tr>",
                            "<tr><td>139</td><td>2</td><td>10</td></tr>",
                            "<tr><td>80</td><td>2</td><td>10</td></tr>",
                            "<tr><td>59</td><td>2</td><td>10</td></tr>",
                            "<tr><td>39</td><td>2</td><td>10</td></tr>",
                            "<tr><td>27</td><td>3</td><td>11</td></tr>",
                            "<tr><td>49</td><td>3</td><td>11</td></tr>",
                            "<tr><td>96</td><td>3</td><td>11</td></tr>",
                            "<tr><td>97</td><td>3</td><td>11</td></tr>",
                            "<tr><td>138</td><td>3</td><td>11</td></tr>",
                            "<tr><td>143</td><td>3</td><td>11</td></tr>",
                            "<tr><td>115</td><td>3</td><td>11</td></tr>",
                            "<tr><td>187</td><td>3</td><td>11</td></tr>",
                            "<tr><td>193</td><td>3</td><td>11</td></tr>",
                            "<tr><td>195</td><td>2</td><td>12</td></tr>",
                            "<tr><td>161</td><td>2</td><td>12</td></tr>",
                            "<tr><td>150</td><td>2</td><td>12</td></tr>",
                            "<tr><td>148</td><td>2</td><td>12</td></tr>",
                            "<tr><td>169</td><td>2</td><td>12</td></tr>",
                            "<tr><td>106</td><td>2</td><td>12</td></tr>",
                            "<tr><td>126</td><td>2</td><td>12</td></tr>",
                            "<tr><td>145</td><td>2</td><td>12</td></tr>",
                            "<tr><td>141</td><td>2</td><td>12</td></tr>",
                            "<tr><td>130</td><td>2</td><td>12</td></tr>",
                            "<tr><td>137</td><td>2</td><td>12</td></tr>",
                            "<tr><td>78</td><td>2</td><td>12</td></tr>",
                            "<tr><td>42</td><td>2</td><td>12</td></tr>",
                            "<tr><td>64</td><td>2</td><td>12</td></tr>",
                            "<tr><td>67</td><td>2</td><td>12</td></tr>",
                            "<tr><td>28</td><td>2</td><td>12</td></tr>",
                            "<tr><td>29</td><td>2</td><td>12</td></tr>",
                            "<tr><td>19</td><td>2</td><td>12</td></tr>",
                            "<tr><td>33</td><td>2</td><td>12</td></tr>",
                            "<tr><td>4</td><td>2</td><td>12</td></tr>",
                            "<tr><td>7</td><td>2</td><td>12</td></tr>",
                            "<tr><td>15</td><td>2</td><td>12</td></tr>",
                            "<tr><td>17</td><td>3</td><td>13</td></tr>",
                            "<tr><td>18</td><td>3</td><td>13</td></tr>",
                            "<tr><td>6</td><td>3</td><td>13</td></tr>",
                            "<tr><td>9</td><td>3</td><td>13</td></tr>",
                            "<tr><td>22</td><td>3</td><td>13</td></tr>",
                            "<tr><td>36</td><td>3</td><td>13</td></tr>",
                            "<tr><td>44</td><td>3</td><td>13</td></tr>",
                            "<tr><td>54</td><td>3</td><td>13</td></tr>",
                            "<tr><td>77</td><td>3</td><td>13</td></tr>",
                            "<tr><td>82</td><td>3</td><td>13</td></tr>",
                            "<tr><td>92</td><td>3</td><td>13</td></tr>",
                            "<tr><td>132</td><td>3</td><td>13</td></tr>",
                            "<tr><td>133</td><td>3</td><td>13</td></tr>",
                            "<tr><td>134</td><td>3</td><td>13</td></tr>",
                            "<tr><td>146</td><td>3</td><td>13</td></tr>",
                            "<tr><td>124</td><td>3</td><td>13</td></tr>",
                            "<tr><td>120</td><td>3</td><td>13</td></tr>",
                            "<tr><td>176</td><td>3</td><td>13</td></tr>",
                            "<tr><td>181</td><td>3</td><td>13</td></tr>",
                            "<tr><td>188</td><td>3</td><td>13</td></tr>",
                            "<tr><td>197</td><td>3</td><td>13</td></tr>",
                            "<tr><td>189</td><td>2</td><td>14</td></tr>",
                            "<tr><td>190</td><td>2</td><td>14</td></tr>",
                            "<tr><td>191</td><td>2</td><td>14</td></tr>",
                            "<tr><td>168</td><td>2</td><td>14</td></tr>",
                            "<tr><td>175</td><td>2</td><td>14</td></tr>",
                            "<tr><td>170</td><td>2</td><td>14</td></tr>",
                            "<tr><td>171</td><td>2</td><td>14</td></tr>",
                            "<tr><td>157</td><td>2</td><td>14</td></tr>",
                            "<tr><td>154</td><td>2</td><td>14</td></tr>",
                            "<tr><td>164</td><td>2</td><td>14</td></tr>",
                            "<tr><td>119</td><td>2</td><td>14</td></tr>",
                            "<tr><td>107</td><td>2</td><td>14</td></tr>",
                            "<tr><td>128</td><td>2</td><td>14</td></tr>",
                            "<tr><td>131</td><td>2</td><td>14</td></tr>",
                            "<tr><td>99</td><td>2</td><td>14</td></tr>",
                            "<tr><td>111</td><td>2</td><td>14</td></tr>",
                            "<tr><td>81</td><td>2</td><td>14</td></tr>",
                            "<tr><td>86</td><td>2</td><td>14</td></tr>",
                            "<tr><td>52</td><td>2</td><td>14</td></tr>",
                            "<tr><td>45</td><td>2</td><td>14</td></tr>",
                            "<tr><td>62</td><td>2</td><td>14</td></tr>",
                            "<tr><td>61</td><td>3</td><td>15</td></tr>",
                            "<tr><td>51</td><td>3</td><td>15</td></tr>",
                            "<tr><td>20</td><td>3</td><td>15</td></tr>",
                            "<tr><td>8</td><td>3</td><td>15</td></tr>",
                            "<tr><td>16</td><td>3</td><td>15</td></tr>",
                            "<tr><td>87</td><td>3</td><td>15</td></tr>",
                            "<tr><td>79</td><td>3</td><td>15</td></tr>",
                            "<tr><td>112</td><td>3</td><td>15</td></tr>",
                            "<tr><td>113</td><td>3</td><td>15</td></tr>",
                            "<tr><td>93</td><td>3</td><td>15</td></tr>",
                            "<tr><td>144</td><td>3</td><td>15</td></tr>",
                            "<tr><td>123</td><td>3</td><td>15</td></tr>",
                            "<tr><td>153</td><td>3</td><td>15</td></tr>",
                            "<tr><td>160</td><td>3</td><td>15</td></tr>",
                            "<tr><td>155</td><td>3</td><td>15</td></tr>",
                            "<tr><td>152</td><td>2</td><td>16</td></tr>",
                            "<tr><td>173</td><td>2</td><td>16</td></tr>",
                            "<tr><td>174</td><td>2</td><td>16</td></tr>",
                            "<tr><td>186</td><td>2</td><td>16</td></tr>",
                            "<tr><td>196</td><td>2</td><td>16</td></tr>",
                            "<tr><td>184</td><td>2</td><td>16</td></tr>",
                            "<tr><td>129</td><td>2</td><td>16</td></tr>",
                            "<tr><td>100</td><td>2</td><td>16</td></tr>",
                            "<tr><td>114</td><td>2</td><td>16</td></tr>",
                            "<tr><td>98</td><td>2</td><td>16</td></tr>",
                            "<tr><td>103</td><td>2</td><td>16</td></tr>",
                            "<tr><td>85</td><td>2</td><td>16</td></tr>",
                            "<tr><td>91</td><td>2</td><td>16</td></tr>",
                            "<tr><td>11</td><td>2</td><td>16</td></tr>",
                            "<tr><td>5</td><td>2</td><td>16</td></tr>",
                            "<tr><td>21</td><td>2</td><td>16</td></tr>",
                            "<tr><td>50</td><td>2</td><td>16</td></tr>",
                            "<tr><td>57</td><td>2</td><td>16</td></tr>",
                            "<tr><td>63</td><td>2</td><td>16</td></tr>",
                            "<tr><td>72</td><td>2</td><td>16</td></tr>",
                            "<tr><td>73</td><td>2</td><td>16</td></tr>",
                            "<tr><td>66</td><td>3</td><td>17</td></tr>",
                            "<tr><td>69</td><td>3</td><td>17</td></tr>",
                            "<tr><td>46</td><td>3</td><td>17</td></tr>",
                            "<tr><td>34</td><td>3</td><td>17</td></tr>",
                            "<tr><td>40</td><td>3</td><td>17</td></tr>",
                            "<tr><td>2</td><td>3</td><td>17</td></tr>",
                            "<tr><td>10</td><td>3</td><td>17</td></tr>",
                            "<tr><td>13</td><td>3</td><td>17</td></tr>",
                            "<tr><td>90</td><td>3</td><td>17</td></tr>",
                            "<tr><td>84</td><td>3</td><td>17</td></tr>",
                            "<tr><td>104</td><td>3</td><td>17</td></tr>",
                            "<tr><td>95</td><td>3</td><td>17</td></tr>",
                            "<tr><td>183</td><td>3</td><td>17</td></tr>",
                            "<tr><td>177</td><td>3</td><td>17</td></tr>",
                            "<tr><td>178</td><td>3</td><td>17</td></tr>",
                            "<tr><td>180</td><td>2</td><td>18</td></tr>",
                            "<tr><td>151</td><td>2</td><td>18</td></tr>",
                            "<tr><td>158</td><td>2</td><td>18</td></tr>",
                            "<tr><td>166</td><td>2</td><td>18</td></tr>",
                            "<tr><td>101</td><td>2</td><td>18</td></tr>",
                            "<tr><td>75</td><td>2</td><td>18</td></tr>",
                            "<tr><td>76</td><td>2</td><td>18</td></tr>",
                            "<tr><td>136</td><td>2</td><td>18</td></tr>",
                            "<tr><td>23</td><td>2</td><td>18</td></tr>",
                            "<tr><td>37</td><td>2</td><td>18</td></tr>",
                            "<tr><td>68</td><td>2</td><td>18</td></tr>",
                            "<tr><td>71</td><td>3</td><td>19</td></tr>",
                            "<tr><td>30</td><td>3</td><td>19</td></tr>",
                            "<tr><td>31</td><td>3</td><td>19</td></tr>",
                            "<tr><td>14</td><td>3</td><td>19</td></tr>",
                            "<tr><td>135</td><td>3</td><td>19</td></tr>",
                            "<tr><td>162</td><td>3</td><td>19</td></tr>",
                            "<tr><td>179</td><td>3</td><td>19</td></tr>",
                            "<tr><td>24</td><td>4</td><td>20</td></tr>",
                            "<tr><td>26</td><td>2</td><td>21</td></tr>",
                            "<tr><td>47</td><td>2</td><td>21</td></tr>",
                            "<tr><td>53</td><td>2</td><td>21</td></tr>",
                            "<tr><td>56</td><td>2</td><td>21</td></tr>",
                            "<tr><td>108</td><td>2</td><td>21</td></tr>",
                            "<tr><td>102</td><td>2</td><td>21</td></tr>",
                            "<tr><td>105</td><td>2</td><td>21</td></tr>",
                            "<tr><td>192</td><td>2</td><td>21</td></tr>",
                            "<tr><td>167</td><td>3</td><td>22</td></tr>",
                            "<tr><td>116</td><td>3</td><td>22</td></tr>",
                            "<tr><td>142</td><td>3</td><td>22</td></tr>",
                            "<tr><td>25</td><td>3</td><td>22</td></tr>",
                            "<tr><td>41</td><td>3</td><td>22</td></tr>",
                            "<tr><td>32</td><td>2</td><td>23</td></tr>",
                            "<tr><td>65</td><td>2</td><td>23</td></tr>",
                            "<tr><td>147</td><td>2</td><td>23</td></tr>",
                            "<tr><td>125</td><td>2</td><td>23</td></tr>",
                            "<tr><td>194</td><td>2</td><td>23</td></tr>",
                            "<tr><td>60</td><td>3</td><td>24</td></tr>",
                            "</table>"
                        ]
                    }
                }
            ],
            "execution_count": 2
        },
        {
            "cell_type": "code",
            "source": [
                "SELECT \r\n",
                "  SZALLAS_ID, \r\n",
                "  SZALLAS_NEV, \r\n",
                "  csillagok_szama,\r\n",
                "  IIF(csillagok_szama >= 3, 'Igen', 'Nem') AS 'Legalább 3 csillagos_e'\r\n",
                "FROM Szallashely\r\n",
                "WHERE SZALLAS_ID NOT IN\r\n",
                "(\r\n",
                "  SELECT \r\n",
                "    SZALLAS_FK \r\n",
                "  FROM Szoba\r\n",
                "  WHERE FEROHELY = 3\r\n",
                ")\r\n",
                ""
            ],
            "metadata": {
                "azdata_cell_guid": "f783a0cb-ef10-43bf-a0d6-71b5cb9996df",
                "language": "sql"
            },
            "outputs": [
                {
                    "output_type": "display_data",
                    "data": {
                        "text/html": "(2 rows affected)"
                    },
                    "metadata": {}
                },
                {
                    "output_type": "display_data",
                    "data": {
                        "text/html": "Total execution time: 00:00:00.013"
                    },
                    "metadata": {}
                },
                {
                    "output_type": "execute_result",
                    "metadata": {},
                    "execution_count": 3,
                    "data": {
                        "application/vnd.dataresource+json": {
                            "schema": {
                                "fields": [
                                    {
                                        "name": "SZALLAS_ID"
                                    },
                                    {
                                        "name": "SZALLAS_NEV"
                                    },
                                    {
                                        "name": "csillagok_szama"
                                    },
                                    {
                                        "name": "Legalább 3 csillagos_e"
                                    }
                                ]
                            },
                            "data": [
                                {
                                    "SZALLAS_ID": "19",
                                    "SZALLAS_NEV": "Nyárfás Vendégház",
                                    "csillagok_szama": "0",
                                    "Legalább 3 csillagos_e": "Nem"
                                },
                                {
                                    "SZALLAS_ID": "21",
                                    "SZALLAS_NEV": "Müller Vendégház",
                                    "csillagok_szama": "0",
                                    "Legalább 3 csillagos_e": "Nem"
                                }
                            ]
                        },
                        "text/html": [
                            "<table>",
                            "<tr><th>SZALLAS_ID</th><th>SZALLAS_NEV</th><th>csillagok_szama</th><th>Legalább 3 csillagos_e</th></tr>",
                            "<tr><td>19</td><td>Nyárfás Vendégház</td><td>0</td><td>Nem</td></tr>",
                            "<tr><td>21</td><td>Müller Vendégház</td><td>0</td><td>Nem</td></tr>",
                            "</table>"
                        ]
                    }
                }
            ],
            "execution_count": 3
        }
    ]
}