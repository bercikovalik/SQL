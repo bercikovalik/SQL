{
    "metadata": {
        "kernelspec": {
            "name": "SQL",
            "display_name": "SQL",
            "language": "sql"
        },
        "language_info": {
            "name": "sql",
            "version": ""
        }
    },
    "nbformat_minor": 2,
    "nbformat": 4,
    "cells": [
        {
            "cell_type": "code",
            "source": [
                "SELECT S.Rogzitette, S.szallas_nev, S.cim\r\n",
                "FROM Szallashely AS S\r\n",
                "WHERE MONTH(S.ROGZ_IDO) = 3\r\n",
                "AND Hely LIKE '%Balaton%'\r\n",
                "ORDER BY S.csillagok_szama DESC\r\n",
                ""
            ],
            "metadata": {
                "azdata_cell_guid": "b2534109-86ba-443e-8ea0-5527c89165e1",
                "language": "sql"
            },
            "outputs": [
{
    "output_type": "display_data",
    "data": {
        "text/html": "(7 rows affected)"
    },
    "metadata": {}
}, {
    "output_type": "display_data",
    "data": {
        "text/html": "Total execution time: 00:00:00.003"
    },
    "metadata": {}
}, {
    "output_type": "execute_result",
    "metadata": {},
    "execution_count": 6,
    "data": {
        "application/vnd.dataresource+json": {
            "schema": {
                "fields": [
                    {
                        "name": "Rogzitette"
                    },
                    {
                        "name": "szallas_nev"
                    },
                    {
                        "name": "cim"
                    }
                ]
            },
            "data": [
                {
                    "Rogzitette": "Béla",
                    "szallas_nev": "Hotel Három Hattyú",
                    "cim": "8623 Balatonföldvár, Rákóczi Ferenc út 45."
                },
                {
                    "Rogzitette": "Mari",
                    "szallas_nev": "Jáde panzió",
                    "cim": "8624 Balatonföldvár, Kiss u.2."
                },
                {
                    "Rogzitette": "Béla",
                    "szallas_nev": "Kentaur Hotel",
                    "cim": "8600 Siófok (Széplak), Akácfa utca 1"
                },
                {
                    "Rogzitette": "Béla",
                    "szallas_nev": "Tímárház Panzió",
                    "cim": "8600 Siófok, Virág utca 1"
                },
                {
                    "Rogzitette": "Béla",
                    "szallas_nev": "Családi Ház",
                    "cim": "8630 Balatonboglár, József Attila utca 25"
                },
                {
                    "Rogzitette": "Mari",
                    "szallas_nev": "Szieszta Apartmanház",
                    "cim": "8630 Balatonboglár, Dózsa György utca 108"
                },
                {
                    "Rogzitette": "Béla",
                    "szallas_nev": "Partiszél Vendégház",
                    "cim": "8220 Balatonalmádi Neptun u. 23."
                }
            ]
        },
        "text/html": [
            "<table>",
            "<tr><th>Rogzitette</th><th>szallas_nev</th><th>cim</th></tr>",
            "<tr><td>Béla</td><td>Hotel Három Hattyú</td><td>8623 Balatonföldvár, Rákóczi Ferenc út 45.</td></tr>",
            "<tr><td>Mari</td><td>Jáde panzió</td><td>8624 Balatonföldvár, Kiss u.2.</td></tr>",
            "<tr><td>Béla</td><td>Kentaur Hotel</td><td>8600 Siófok (Széplak), Akácfa utca 1</td></tr>",
            "<tr><td>Béla</td><td>Tímárház Panzió</td><td>8600 Siófok, Virág utca 1</td></tr>",
            "<tr><td>Béla</td><td>Családi Ház</td><td>8630 Balatonboglár, József Attila utca 25</td></tr>",
            "<tr><td>Mari</td><td>Szieszta Apartmanház</td><td>8630 Balatonboglár, Dózsa György utca 108</td></tr>",
            "<tr><td>Béla</td><td>Partiszél Vendégház</td><td>8220 Balatonalmádi Neptun u. 23.</td></tr>",
            "</table>"
        ]
    }
}
],
            "execution_count": 6
        }
    ]
}