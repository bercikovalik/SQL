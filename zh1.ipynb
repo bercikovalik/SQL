{
    "metadata": {
        "kernelspec": {
            "name": "SQL",
            "display_name": "SQL",
            "language": "sql"
        },
        "language_info": {
            "name": "sql",
            "version": ""
        }
    },
    "nbformat_minor": 2,
    "nbformat": 4,
    "cells": [
        {
            "cell_type": "code",
            "source": [
                "SELECT S.Rogzitette, S.szallas_nev, S.cim\r\n",
                "FROM Szallashely AS S\r\n",
                "WHERE MONTH(S.ROGZ_IDO) = 3\r\n",
                "AND Hely LIKE '%Balaton%'\r\n",
                "ORDER BY S.csillagok_szama DESC\r\n",
                ""
            ],
            "metadata": {
                "azdata_cell_guid": "b2534109-86ba-443e-8ea0-5527c89165e1",
                "language": "sql"
            },
            "outputs": [
                {
                    "output_type": "display_data",
                    "data": {
                        "text/html": "(7 rows affected)"
                    },
                    "metadata": {}
                },
                {
                    "output_type": "display_data",
                    "data": {
                        "text/html": "Total execution time: 00:00:00.003"
                    },
                    "metadata": {}
                },
                {
                    "output_type": "execute_result",
                    "metadata": {},
                    "execution_count": 6,
                    "data": {
                        "application/vnd.dataresource+json": {
                            "schema": {
                                "fields": [
                                    {
                                        "name": "Rogzitette"
                                    },
                                    {
                                        "name": "szallas_nev"
                                    },
                                    {
                                        "name": "cim"
                                    }
                                ]
                            },
                            "data": [
                                {
                                    "Rogzitette": "Béla",
                                    "szallas_nev": "Hotel Három Hattyú",
                                    "cim": "8623 Balatonföldvár, Rákóczi Ferenc út 45."
                                },
                                {
                                    "Rogzitette": "Mari",
                                    "szallas_nev": "Jáde panzió",
                                    "cim": "8624 Balatonföldvár, Kiss u.2."
                                },
                                {
                                    "Rogzitette": "Béla",
                                    "szallas_nev": "Kentaur Hotel",
                                    "cim": "8600 Siófok (Széplak), Akácfa utca 1"
                                },
                                {
                                    "Rogzitette": "Béla",
                                    "szallas_nev": "Tímárház Panzió",
                                    "cim": "8600 Siófok, Virág utca 1"
                                },
                                {
                                    "Rogzitette": "Béla",
                                    "szallas_nev": "Családi Ház",
                                    "cim": "8630 Balatonboglár, József Attila utca 25"
                                },
                                {
                                    "Rogzitette": "Mari",
                                    "szallas_nev": "Szieszta Apartmanház",
                                    "cim": "8630 Balatonboglár, Dózsa György utca 108"
                                },
                                {
                                    "Rogzitette": "Béla",
                                    "szallas_nev": "Partiszél Vendégház",
                                    "cim": "8220 Balatonalmádi Neptun u. 23."
                                }
                            ]
                        },
                        "text/html": [
                            "<table>",
                            "<tr><th>Rogzitette</th><th>szallas_nev</th><th>cim</th></tr>",
                            "<tr><td>Béla</td><td>Hotel Három Hattyú</td><td>8623 Balatonföldvár, Rákóczi Ferenc út 45.</td></tr>",
                            "<tr><td>Mari</td><td>Jáde panzió</td><td>8624 Balatonföldvár, Kiss u.2.</td></tr>",
                            "<tr><td>Béla</td><td>Kentaur Hotel</td><td>8600 Siófok (Széplak), Akácfa utca 1</td></tr>",
                            "<tr><td>Béla</td><td>Tímárház Panzió</td><td>8600 Siófok, Virág utca 1</td></tr>",
                            "<tr><td>Béla</td><td>Családi Ház</td><td>8630 Balatonboglár, József Attila utca 25</td></tr>",
                            "<tr><td>Mari</td><td>Szieszta Apartmanház</td><td>8630 Balatonboglár, Dózsa György utca 108</td></tr>",
                            "<tr><td>Béla</td><td>Partiszél Vendégház</td><td>8220 Balatonalmádi Neptun u. 23.</td></tr>",
                            "</table>"
                        ]
                    }
                }
            ],
            "execution_count": 6
        },
        {
            "cell_type": "code",
            "source": [
                "SELECT SH.tipus, ROUND(AVG(SH.csillagok_szama), 0) AS atlag_csillagok\r\n",
                "FROM Szallashely AS SH\r\n",
                "WHERE SH.tipus <> 'Panzio'\r\n",
                "GROUP BY SH.tipus\r\n",
                "HAVING ROUND(AVG(SH.csillagok_szama), 0) >= 3\r\n",
                ""
            ],
            "metadata": {
                "azdata_cell_guid": "4ec03d2e-571a-4bf1-baa9-5f95ac6e0289",
                "language": "sql"
            },
            "outputs": [
                {
                    "output_type": "display_data",
                    "data": {
                        "text/html": "(2 rows affected)"
                    },
                    "metadata": {}
                },
                {
                    "output_type": "display_data",
                    "data": {
                        "text/html": "Total execution time: 00:00:00.007"
                    },
                    "metadata": {}
                },
                {
                    "output_type": "execute_result",
                    "metadata": {},
                    "execution_count": 8,
                    "data": {
                        "application/vnd.dataresource+json": {
                            "schema": {
                                "fields": [
                                    {
                                        "name": "tipus"
                                    },
                                    {
                                        "name": "atlag_csillagok"
                                    }
                                ]
                            },
                            "data": [
                                {
                                    "tipus": "Hotel",
                                    "atlag_csillagok": "3"
                                },
                                {
                                    "tipus": "panzió",
                                    "atlag_csillagok": "3"
                                }
                            ]
                        },
                        "text/html": [
                            "<table>",
                            "<tr><th>tipus</th><th>atlag_csillagok</th></tr>",
                            "<tr><td>Hotel</td><td>3</td></tr>",
                            "<tr><td>panzió</td><td>3</td></tr>",
                            "</table>"
                        ]
                    }
                }
            ],
            "execution_count": 8
        },
        {
            "cell_type": "code",
            "source": [
                "SELECT F.SZOBA_FK, YEAR(F.mettol) AS evszam, COUNT(*) AS foglalasok_szama\r\n",
                "FROM Foglalas AS F\r\n",
                "JOIN Szoba AS S ON F.SZOBA_FK = S.szoba_id\r\n",
                "WHERE F.SZOBA_FK % 2 = 1\r\n",
                "GROUP BY F.SZOBA_FK, YEAR(F.METTOL)\r\n",
                "HAVING COUNT(*) > 10\r\n",
                ""
            ],
            "metadata": {
                "azdata_cell_guid": "16f5b07f-9716-4550-8f10-fd5abba04a1e",
                "language": "sql"
            },
            "outputs": [
                {
                    "output_type": "display_data",
                    "data": {
                        "text/html": "(0 rows affected)"
                    },
                    "metadata": {}
                },
                {
                    "output_type": "display_data",
                    "data": {
                        "text/html": "Total execution time: 00:00:00.012"
                    },
                    "metadata": {}
                },
                {
                    "output_type": "execute_result",
                    "metadata": {},
                    "execution_count": 13,
                    "data": {
                        "application/vnd.dataresource+json": {
                            "schema": {
                                "fields": [
                                    {
                                        "name": "SZOBA_FK"
                                    },
                                    {
                                        "name": "evszam"
                                    },
                                    {
                                        "name": "foglalasok_szama"
                                    }
                                ]
                            },
                            "data": []
                        },
                        "text/html": [
                            "<table>",
                            "<tr><th>SZOBA_FK</th><th>evszam</th><th>foglalasok_szama</th></tr>",
                            "</table>"
                        ]
                    }
                }
            ],
            "execution_count": 13
        }
    ]
}